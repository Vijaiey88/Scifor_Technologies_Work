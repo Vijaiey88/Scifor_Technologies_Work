{
 "cells": [
  {
   "cell_type": "code",
   "execution_count": 4,
   "id": "8d5f09a7",
   "metadata": {},
   "outputs": [
    {
     "name": "stdout",
     "output_type": "stream",
     "text": [
      "Dog makes woof! sound\n",
      "Dog makes meow! sound\n",
      "They are animals\n",
      "They are animals\n"
     ]
    }
   ],
   "source": [
    "# Hybrid Inheritance\n",
    "class Animal:\n",
    "    def __init__(self, name, breed):\n",
    "        self.name = name\n",
    "        self.breed = breed\n",
    "    def nature(self):\n",
    "        print('They are animals')\n",
    "# multilevel inheritance\n",
    "class Dog(Animal):\n",
    "    def sound(self):\n",
    "        print('Dog makes woof! sound')\n",
    "class Cat(Animal):\n",
    "    def sound(self):\n",
    "        print('Dog makes meow! sound')\n",
    "# multiple inheritance\n",
    "class Mammals(Dog, Cat):\n",
    "    def mammal_behavior(self):\n",
    "        print(\"Mammals exhibit various behaviors\")\n",
    "        \n",
    "dog = Dog(\"Buddy\", \"Labrador\")\n",
    "cat = Cat(\"Whiskers\", \"Mary\")\n",
    "dog.sound()\n",
    "cat.sound()\n",
    "dog.nature()\n",
    "cat.nature()"
   ]
  },
  {
   "cell_type": "code",
   "execution_count": null,
   "id": "53273ce1",
   "metadata": {},
   "outputs": [],
   "source": []
  }
 ],
 "metadata": {
  "kernelspec": {
   "display_name": "Python 3 (ipykernel)",
   "language": "python",
   "name": "python3"
  },
  "language_info": {
   "codemirror_mode": {
    "name": "ipython",
    "version": 3
   },
   "file_extension": ".py",
   "mimetype": "text/x-python",
   "name": "python",
   "nbconvert_exporter": "python",
   "pygments_lexer": "ipython3",
   "version": "3.10.9"
  }
 },
 "nbformat": 4,
 "nbformat_minor": 5
}
