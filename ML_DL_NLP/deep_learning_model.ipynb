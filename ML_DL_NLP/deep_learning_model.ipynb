{
  "nbformat": 4,
  "nbformat_minor": 0,
  "metadata": {
    "colab": {
      "provenance": []
    },
    "kernelspec": {
      "name": "python3",
      "display_name": "Python 3"
    },
    "language_info": {
      "name": "python"
    }
  },
  "cells": [
    {
      "cell_type": "code",
      "execution_count": 34,
      "metadata": {
        "id": "0iZu2tTUaKLy"
      },
      "outputs": [],
      "source": [
        "import pandas as pd\n",
        "from sklearn.model_selection import train_test_split\n",
        "from sklearn.preprocessing import StandardScaler\n",
        "import tensorflow as tf\n",
        "from tensorflow.keras.models import Sequential\n",
        "from tensorflow.keras.layers import Dense"
      ]
    },
    {
      "cell_type": "code",
      "source": [
        "data = pd.read_csv(\"titanic.csv\")\n",
        "print(data.head())"
      ],
      "metadata": {
        "colab": {
          "base_uri": "https://localhost:8080/"
        },
        "id": "FN8ozsMem8It",
        "outputId": "c2d674fe-784b-4bc8-8c83-f2188308f8ef"
      },
      "execution_count": 35,
      "outputs": [
        {
          "output_type": "stream",
          "name": "stdout",
          "text": [
            "   PassengerId  Survived  Pclass  \\\n",
            "0            1         0       3   \n",
            "1            2         1       1   \n",
            "2            3         1       3   \n",
            "3            4         1       1   \n",
            "4            5         0       3   \n",
            "\n",
            "                                                Name     Sex   Age  SibSp  \\\n",
            "0                            Braund, Mr. Owen Harris    male  22.0      1   \n",
            "1  Cumings, Mrs. John Bradley (Florence Briggs Th...  female  38.0      1   \n",
            "2                             Heikkinen, Miss. Laina  female  26.0      0   \n",
            "3       Futrelle, Mrs. Jacques Heath (Lily May Peel)  female  35.0      1   \n",
            "4                           Allen, Mr. William Henry    male  35.0      0   \n",
            "\n",
            "   Parch            Ticket     Fare Cabin Embarked  \n",
            "0      0         A/5 21171   7.2500   NaN        S  \n",
            "1      0          PC 17599  71.2833   C85        C  \n",
            "2      0  STON/O2. 3101282   7.9250   NaN        S  \n",
            "3      0            113803  53.1000  C123        S  \n",
            "4      0            373450   8.0500   NaN        S  \n"
          ]
        }
      ]
    },
    {
      "cell_type": "code",
      "source": [
        "data = data.drop(['PassengerId', 'Name', 'Ticket', 'Cabin', 'Embarked'], axis=1)\n",
        "data['Sex'] = data['Sex'].map({'male': 0, 'female': 1})\n",
        "data = data.fillna(data.mean())"
      ],
      "metadata": {
        "id": "CnW2JRRCnFcY"
      },
      "execution_count": 36,
      "outputs": []
    },
    {
      "cell_type": "code",
      "source": [
        "data.columns"
      ],
      "metadata": {
        "colab": {
          "base_uri": "https://localhost:8080/"
        },
        "id": "LThrP4Tnidtc",
        "outputId": "8e5a3357-33e6-4fe9-e814-cb75909213e5"
      },
      "execution_count": 37,
      "outputs": [
        {
          "output_type": "execute_result",
          "data": {
            "text/plain": [
              "Index(['Survived', 'Pclass', 'Sex', 'Age', 'SibSp', 'Parch', 'Fare'], dtype='object')"
            ]
          },
          "metadata": {},
          "execution_count": 37
        }
      ]
    },
    {
      "cell_type": "code",
      "source": [
        "X = data.drop('Survived', axis=1)\n",
        "y = data['Survived']"
      ],
      "metadata": {
        "id": "IhEjkopRoENN"
      },
      "execution_count": 38,
      "outputs": []
    },
    {
      "cell_type": "code",
      "source": [
        "# Split the data into training and testing sets\n",
        "X_train, X_test, y_train, y_test = train_test_split(X, y, test_size=0.2, random_state=42)\n",
        "\n",
        "# Standardize the features\n",
        "scaler = StandardScaler()\n",
        "X_train = scaler.fit_transform(X_train)\n",
        "X_test = scaler.transform(X_test)"
      ],
      "metadata": {
        "id": "scent9GRo1El"
      },
      "execution_count": 39,
      "outputs": []
    },
    {
      "cell_type": "code",
      "source": [
        "# Define the model architecture\n",
        "model = Sequential([\n",
        "    Dense(64, activation='relu', input_shape=(X_train.shape[1],)),\n",
        "    Dense(64, activation='relu'),\n",
        "    Dense(1, activation='sigmoid')\n",
        "])"
      ],
      "metadata": {
        "id": "Wq2UqIyno5If"
      },
      "execution_count": 40,
      "outputs": []
    },
    {
      "cell_type": "code",
      "source": [
        "# Compile the model\n",
        "model.compile(optimizer='adam', loss='binary_crossentropy', metrics=['accuracy'])\n",
        "\n",
        "# Train the model\n",
        "model.fit(X_train, y_train, epochs=20, batch_size=32, validation_split=0.2)\n",
        "\n",
        "# Evaluate the model on the test set\n",
        "loss, accuracy = model.evaluate(X_test, y_test)\n",
        "print(\"Test Accuracy:\", accuracy)"
      ],
      "metadata": {
        "colab": {
          "base_uri": "https://localhost:8080/"
        },
        "id": "96tRMPtko9oB",
        "outputId": "5cd70545-3f3d-4397-b6a5-37692ec9129d"
      },
      "execution_count": 41,
      "outputs": [
        {
          "output_type": "stream",
          "name": "stdout",
          "text": [
            "Epoch 1/20\n",
            "18/18 [==============================] - 1s 15ms/step - loss: 0.6252 - accuracy: 0.7381 - val_loss: 0.5493 - val_accuracy: 0.8252\n",
            "Epoch 2/20\n",
            "18/18 [==============================] - 0s 4ms/step - loss: 0.5235 - accuracy: 0.8032 - val_loss: 0.4605 - val_accuracy: 0.8112\n",
            "Epoch 3/20\n",
            "18/18 [==============================] - 0s 3ms/step - loss: 0.4677 - accuracy: 0.8032 - val_loss: 0.4269 - val_accuracy: 0.8252\n",
            "Epoch 4/20\n",
            "18/18 [==============================] - 0s 3ms/step - loss: 0.4481 - accuracy: 0.8084 - val_loss: 0.4117 - val_accuracy: 0.8322\n",
            "Epoch 5/20\n",
            "18/18 [==============================] - 0s 3ms/step - loss: 0.4402 - accuracy: 0.8049 - val_loss: 0.4111 - val_accuracy: 0.8322\n",
            "Epoch 6/20\n",
            "18/18 [==============================] - 0s 3ms/step - loss: 0.4336 - accuracy: 0.8084 - val_loss: 0.4035 - val_accuracy: 0.8322\n",
            "Epoch 7/20\n",
            "18/18 [==============================] - 0s 4ms/step - loss: 0.4262 - accuracy: 0.8120 - val_loss: 0.4022 - val_accuracy: 0.8252\n",
            "Epoch 8/20\n",
            "18/18 [==============================] - 0s 4ms/step - loss: 0.4195 - accuracy: 0.8190 - val_loss: 0.3987 - val_accuracy: 0.8182\n",
            "Epoch 9/20\n",
            "18/18 [==============================] - 0s 3ms/step - loss: 0.4162 - accuracy: 0.8225 - val_loss: 0.4016 - val_accuracy: 0.8182\n",
            "Epoch 10/20\n",
            "18/18 [==============================] - 0s 4ms/step - loss: 0.4159 - accuracy: 0.8225 - val_loss: 0.4032 - val_accuracy: 0.8322\n",
            "Epoch 11/20\n",
            "18/18 [==============================] - 0s 4ms/step - loss: 0.4100 - accuracy: 0.8260 - val_loss: 0.3985 - val_accuracy: 0.8182\n",
            "Epoch 12/20\n",
            "18/18 [==============================] - 0s 4ms/step - loss: 0.4074 - accuracy: 0.8295 - val_loss: 0.3985 - val_accuracy: 0.8252\n",
            "Epoch 13/20\n",
            "18/18 [==============================] - 0s 5ms/step - loss: 0.4042 - accuracy: 0.8313 - val_loss: 0.3967 - val_accuracy: 0.8252\n",
            "Epoch 14/20\n",
            "18/18 [==============================] - 0s 5ms/step - loss: 0.4016 - accuracy: 0.8330 - val_loss: 0.3995 - val_accuracy: 0.8182\n",
            "Epoch 15/20\n",
            "18/18 [==============================] - 0s 3ms/step - loss: 0.3997 - accuracy: 0.8383 - val_loss: 0.3988 - val_accuracy: 0.8322\n",
            "Epoch 16/20\n",
            "18/18 [==============================] - 0s 2ms/step - loss: 0.3969 - accuracy: 0.8383 - val_loss: 0.3967 - val_accuracy: 0.8392\n",
            "Epoch 17/20\n",
            "18/18 [==============================] - 0s 3ms/step - loss: 0.3950 - accuracy: 0.8401 - val_loss: 0.3953 - val_accuracy: 0.8322\n",
            "Epoch 18/20\n",
            "18/18 [==============================] - 0s 2ms/step - loss: 0.3959 - accuracy: 0.8436 - val_loss: 0.3978 - val_accuracy: 0.8392\n",
            "Epoch 19/20\n",
            "18/18 [==============================] - 0s 3ms/step - loss: 0.3929 - accuracy: 0.8383 - val_loss: 0.4036 - val_accuracy: 0.8392\n",
            "Epoch 20/20\n",
            "18/18 [==============================] - 0s 2ms/step - loss: 0.3899 - accuracy: 0.8436 - val_loss: 0.3949 - val_accuracy: 0.8462\n",
            "6/6 [==============================] - 0s 2ms/step - loss: 0.4367 - accuracy: 0.8101\n",
            "Test Accuracy: 0.8100558519363403\n"
          ]
        }
      ]
    }
  ]
}