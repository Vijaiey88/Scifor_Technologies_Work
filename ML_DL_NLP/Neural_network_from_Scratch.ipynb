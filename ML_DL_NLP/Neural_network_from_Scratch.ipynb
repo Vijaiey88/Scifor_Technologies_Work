{
  "nbformat": 4,
  "nbformat_minor": 0,
  "metadata": {
    "colab": {
      "provenance": []
    },
    "kernelspec": {
      "name": "python3",
      "display_name": "Python 3"
    },
    "language_info": {
      "name": "python"
    }
  },
  "cells": [
    {
      "cell_type": "code",
      "source": [
        "import matplotlib.pyplot as plt\n",
        "import numpy as np"
      ],
      "metadata": {
        "id": "c2pidTy-3184"
      },
      "execution_count": 1,
      "outputs": []
    },
    {
      "cell_type": "code",
      "source": [
        "# A\n",
        "a =[0, 0, 1, 1, 0, 0,\n",
        "0, 1, 0, 0, 1, 0,\n",
        "1, 1, 1, 1, 1, 1,\n",
        "1, 0, 0, 0, 0, 1,\n",
        "1, 0, 0, 0, 0, 1]\n",
        "# B\n",
        "b =[0, 1, 1, 1, 1, 0,\n",
        "0, 1, 0, 0, 1, 0,\n",
        "0, 1, 1, 1, 1, 0,\n",
        "0, 1, 0, 0, 1, 0,\n",
        "0, 1, 1, 1, 1, 0]\n",
        "# C\n",
        "c =[0, 1, 1, 1, 1, 0,\n",
        "0, 1, 0, 0, 0, 0,\n",
        "0, 1, 0, 0, 0, 0,\n",
        "0, 1, 0, 0, 0, 0,\n",
        "0, 1, 1, 1, 1, 0]\n",
        "\n",
        "y =[[1, 0, 0],\n",
        "[0, 1, 0],\n",
        "[0, 0, 1]]"
      ],
      "metadata": {
        "id": "kMRmTT2oopZp"
      },
      "execution_count": 2,
      "outputs": []
    },
    {
      "cell_type": "code",
      "source": [
        "x =[np.array(a).reshape(1, 30), np.array(b).reshape(1, 30),\n",
        "                                np.array(c).reshape(1, 30)]\n",
        "y = np.array(y)"
      ],
      "metadata": {
        "id": "UfFWTaQb4Ybx"
      },
      "execution_count": 3,
      "outputs": []
    },
    {
      "cell_type": "code",
      "source": [
        "def train(x, Y, w1, w2, alpha = 0.01, epoch = 10):\n",
        "\tacc =[]\n",
        "\tlosss =[]\n",
        "\tfor j in range(epoch):\n",
        "\t\tl =[]\n",
        "\t\tfor i in range(len(x)):\n",
        "\t\t\tout = f_forward(x[i], w1, w2)\n",
        "\t\t\tl.append((loss(out, Y[i])))\n",
        "\t\t\tw1, w2 = back_prop(x[i], y[i], w1, w2, alpha)\n",
        "\t\tprint(\"epochs:\", j + 1, \"======== acc:\", (1-(sum(l)/len(x)))*100)\n",
        "\t\tacc.append((1-(sum(l)/len(x)))*100)\n",
        "\t\tlosss.append(sum(l)/len(x))\n",
        "\treturn(acc, losss, w1, w2)"
      ],
      "metadata": {
        "id": "0cF01eH-FcZV"
      },
      "execution_count": 4,
      "outputs": []
    },
    {
      "cell_type": "code",
      "source": [
        "def generate_wt(x, y):\n",
        "\tl =[]\n",
        "\tfor i in range(x * y):\n",
        "\t\tl.append(np.random.randn())\n",
        "\treturn(np.array(l).reshape(x, y))"
      ],
      "metadata": {
        "id": "y-Th1si5FT2I"
      },
      "execution_count": 5,
      "outputs": []
    },
    {
      "cell_type": "code",
      "source": [
        "def loss(out, Y):\n",
        "\ts =(np.square(out-Y))\n",
        "\ts = np.sum(s)/len(y)\n",
        "\treturn(s)"
      ],
      "metadata": {
        "id": "UwgZ2yriGRo9"
      },
      "execution_count": 6,
      "outputs": []
    },
    {
      "cell_type": "code",
      "source": [
        "def sigmoid(x):\n",
        "\treturn(1/(1 + np.exp(-x)))"
      ],
      "metadata": {
        "id": "zdps7rCDFRnX"
      },
      "execution_count": 7,
      "outputs": []
    },
    {
      "cell_type": "code",
      "source": [
        "def f_forward(x, w1, w2):\n",
        "\tz1 = x.dot(w1)\n",
        "\ta1 = sigmoid(z1)\n",
        "\tz2 = a1.dot(w2)\n",
        "\ta2 = sigmoid(z2)\n",
        "\treturn(a2)"
      ],
      "metadata": {
        "id": "1ZGgQtPWFTx0"
      },
      "execution_count": 8,
      "outputs": []
    },
    {
      "cell_type": "code",
      "source": [
        "def back_prop(x, y, w1, w2, alpha):\n",
        "\tz1 = x.dot(w1)\n",
        "\ta1 = sigmoid(z1)\n",
        "\tz2 = a1.dot(w2)\n",
        "\ta2 = sigmoid(z2)\n",
        "\td2 =(a2-y)\n",
        "\td1 = np.multiply((w2.dot((d2.transpose()))).transpose(),\n",
        "\t\t\t\t\t\t\t\t(np.multiply(a1, 1-a1)))\n",
        "\tw1_adj = x.transpose().dot(d1)\n",
        "\tw2_adj = a1.transpose().dot(d2)\n",
        "\tw1 = w1-(alpha*(w1_adj))\n",
        "\tw2 = w2-(alpha*(w2_adj))\n",
        "\treturn(w1, w2)"
      ],
      "metadata": {
        "id": "iE0a6_CSFT4k"
      },
      "execution_count": 9,
      "outputs": []
    },
    {
      "cell_type": "code",
      "execution_count": 10,
      "metadata": {
        "id": "EYGUn3_EkwQC"
      },
      "outputs": [],
      "source": [
        "def predict(x, w1, w2):\n",
        "\tOut = f_forward(x, w1, w2)\n",
        "\tmaxm = 0\n",
        "\tk = 0\n",
        "\tfor i in range(len(Out[0])):\n",
        "\t\tif(maxm<Out[0][i]):\n",
        "\t\t\tmaxm = Out[0][i]\n",
        "\t\t\tk = i\n",
        "\tif(k == 0):\n",
        "\t\tprint(\"Image is of letter A.\")\n",
        "\telif(k == 1):\n",
        "\t\tprint(\"Image is of letter B.\")\n",
        "\telse:\n",
        "\t\tprint(\"Image is of letter C.\")\n",
        "\tplt.imshow(x.reshape(5, 6))\n",
        "\tplt.show()"
      ]
    },
    {
      "cell_type": "code",
      "source": [
        "w1 = generate_wt(30, 5)\n",
        "w2 = generate_wt(5, 3)\n",
        "print(w1, \"\\n\\n\", w2)"
      ],
      "metadata": {
        "colab": {
          "base_uri": "https://localhost:8080/"
        },
        "id": "b6N3JBDHo5mV",
        "outputId": "b88e283b-2629-41e8-e8d6-1b2bbdff3275"
      },
      "execution_count": 11,
      "outputs": [
        {
          "output_type": "stream",
          "name": "stdout",
          "text": [
            "[[-0.06670464  0.48191426  0.20040314  0.72640411 -1.8088875 ]\n",
            " [ 1.29616475  0.57790307  1.14752913  0.69901084  0.57664962]\n",
            " [ 1.63476595 -0.28524054 -0.31711307  0.93708752  1.93349911]\n",
            " [-0.16697813 -1.11094252  1.29081686  2.0915342  -1.45867957]\n",
            " [ 0.55011198  0.15315362 -1.19641197  0.23576955  0.6322542 ]\n",
            " [ 0.04277801 -0.3449127  -0.15314496  0.68700879 -0.00767121]\n",
            " [-0.47272141  0.36171088  0.84677882 -2.61427221 -0.0396307 ]\n",
            " [ 0.88295057  0.96926172  0.36601829  0.71218419 -0.29271823]\n",
            " [ 0.82574008  1.25364017 -0.01066949 -0.06549092 -0.23846608]\n",
            " [-0.76142584  1.39717958 -0.71824455  0.74850871 -0.708471  ]\n",
            " [-1.00210029  0.8989122  -0.03807468 -1.28661987  0.0295503 ]\n",
            " [-0.16723384  0.89724896  2.58588623  0.81125404  0.00859668]\n",
            " [ 2.2685633   0.66455287 -0.56780542  1.10820668  1.47706028]\n",
            " [-1.14780136  0.75204998  1.11863684 -0.65897966  1.27376087]\n",
            " [-0.05505054 -2.24156004 -2.4209067  -0.26654347  0.75517228]\n",
            " [-0.12098959  1.18856244  0.82188614 -0.69842256 -0.88245528]\n",
            " [ 1.01732816  1.54965037 -0.80204447  1.85978357 -0.51138151]\n",
            " [-0.77427902 -0.09480198  1.34732232 -1.53030491 -1.09120881]\n",
            " [-1.05367718 -1.04962982  0.1598375  -1.7448731  -0.40539476]\n",
            " [ 1.2524325  -0.50798361 -1.69013831  0.96571233  1.16849472]\n",
            " [ 0.64685921 -0.28875785 -1.9731829  -0.42585683  2.85392416]\n",
            " [ 0.7913027   0.10048702 -0.05313016  1.47572921 -0.74641099]\n",
            " [ 1.49380521 -1.70451531  1.03851287 -1.04298454  1.10584335]\n",
            " [ 1.15015802  0.61340977 -2.03629356 -1.26684322  1.85394642]\n",
            " [ 0.40562191  0.63027865 -0.90401083 -1.68882125  0.08326574]\n",
            " [ 0.95800263  0.62637384  2.34895798 -0.60330705  0.1318973 ]\n",
            " [ 0.5835549  -0.33670753  0.46828851 -0.61874714  1.18949707]\n",
            " [ 0.97184549 -1.27501554  1.03940155 -1.5248376   0.51876477]\n",
            " [-0.38020677  0.50527231 -0.73346455 -1.48674812  0.89138977]\n",
            " [-0.264407    2.67865037 -0.06125764 -1.0508933  -0.65017968]] \n",
            "\n",
            " [[ 0.86648453  0.53073524 -1.27592649]\n",
            " [-0.23643823  0.56384299 -1.25426418]\n",
            " [-0.67902351 -0.73938179  0.48035336]\n",
            " [ 1.46943776  1.0204037   1.2052548 ]\n",
            " [-0.58352376  1.19759116  0.75764147]]\n"
          ]
        }
      ]
    },
    {
      "cell_type": "code",
      "source": [
        "acc, losss, w1, w2 = train(x, y, w1, w2, 0.1, 100)"
      ],
      "metadata": {
        "colab": {
          "base_uri": "https://localhost:8080/"
        },
        "id": "i4zhIm6gpoHD",
        "outputId": "eb856ba0-e401-45ff-b2f6-86cff74f71c1"
      },
      "execution_count": 12,
      "outputs": [
        {
          "output_type": "stream",
          "name": "stdout",
          "text": [
            "epochs: 1 ======== acc: 67.20258955131297\n",
            "epochs: 2 ======== acc: 71.05739488581786\n",
            "epochs: 3 ======== acc: 73.72503641810168\n",
            "epochs: 4 ======== acc: 75.68600511089318\n",
            "epochs: 5 ======== acc: 77.18297354439694\n",
            "epochs: 6 ======== acc: 78.3776968210916\n",
            "epochs: 7 ======== acc: 79.3815909189364\n",
            "epochs: 8 ======== acc: 80.26465808546152\n",
            "epochs: 9 ======== acc: 81.06283290537895\n",
            "epochs: 10 ======== acc: 81.78746867831518\n",
            "epochs: 11 ======== acc: 82.43813037275967\n",
            "epochs: 12 ======== acc: 83.01463339220159\n",
            "epochs: 13 ======== acc: 83.52247248359365\n",
            "epochs: 14 ======== acc: 83.97160711078601\n",
            "epochs: 15 ======== acc: 84.37318752628333\n",
            "epochs: 16 ======== acc: 84.73736463988574\n",
            "epochs: 17 ======== acc: 85.0725458595009\n",
            "epochs: 18 ======== acc: 85.38544603744383\n",
            "epochs: 19 ======== acc: 85.68139653074508\n",
            "epochs: 20 ======== acc: 85.96465785718705\n",
            "epochs: 21 ======== acc: 86.23865002249664\n",
            "epochs: 22 ======== acc: 86.50608566246501\n",
            "epochs: 23 ======== acc: 86.76901765260492\n",
            "epochs: 24 ======== acc: 87.02882657976316\n",
            "epochs: 25 ======== acc: 87.28618702135556\n",
            "epochs: 26 ======== acc: 87.54106410670451\n",
            "epochs: 27 ======== acc: 87.79279251020554\n",
            "epochs: 28 ======== acc: 88.0402656415473\n",
            "epochs: 29 ======== acc: 88.28221304962794\n",
            "epochs: 30 ======== acc: 88.51749319851776\n",
            "epochs: 31 ======== acc: 88.74531325047744\n",
            "epochs: 32 ======== acc: 88.96532177602035\n",
            "epochs: 33 ======== acc: 89.1775791330958\n",
            "epochs: 34 ======== acc: 89.38245293602716\n",
            "epochs: 35 ======== acc: 89.5804934956125\n",
            "epochs: 36 ======== acc: 89.77232653825583\n",
            "epochs: 37 ======== acc: 89.95857784211452\n",
            "epochs: 38 ======== acc: 90.13982884809676\n",
            "epochs: 39 ======== acc: 90.31659568254673\n",
            "epochs: 40 ======== acc: 90.48932327934024\n",
            "epochs: 41 ======== acc: 90.65838802053254\n",
            "epochs: 42 ======== acc: 90.82410447915765\n",
            "epochs: 43 ======== acc: 90.98673361570752\n",
            "epochs: 44 ======== acc: 91.1464909894923\n",
            "epochs: 45 ======== acc: 91.30355429133142\n",
            "epochs: 46 ======== acc: 91.4580699289841\n",
            "epochs: 47 ======== acc: 91.61015862202787\n",
            "epochs: 48 ======== acc: 91.75992007173502\n",
            "epochs: 49 ======== acc: 91.9074368159228\n",
            "epochs: 50 ======== acc: 92.05277738943126\n",
            "epochs: 51 ======== acc: 92.19599890514094\n",
            "epochs: 52 ======== acc: 92.33714915771625\n",
            "epochs: 53 ======== acc: 92.4762683374846\n",
            "epochs: 54 ======== acc: 92.61339042746569\n",
            "epochs: 55 ======== acc: 92.74854434362238\n",
            "epochs: 56 ======== acc: 92.88175486727673\n",
            "epochs: 57 ======== acc: 93.01304340932333\n",
            "epochs: 58 ======== acc: 93.14242863821782\n",
            "epochs: 59 ======== acc: 93.26992699749846\n",
            "epochs: 60 ======== acc: 93.39555313358228\n",
            "epochs: 61 ======== acc: 93.51932025055096\n",
            "epochs: 62 ======== acc: 93.64124040541576\n",
            "epochs: 63 ======== acc: 93.76132475476857\n",
            "epochs: 64 ======== acc: 93.87958376165643\n",
            "epochs: 65 ======== acc: 93.99602736985275\n",
            "epochs: 66 ======== acc: 94.11066515135744\n",
            "epochs: 67 ======== acc: 94.22350643187187\n",
            "epochs: 68 ======== acc: 94.33456039811055\n",
            "epochs: 69 ======== acc: 94.44383619009034\n",
            "epochs: 70 ======== acc: 94.55134298094467\n",
            "epochs: 71 ======== acc: 94.65709004632411\n",
            "epochs: 72 ======== acc: 94.7610868250411\n",
            "epochs: 73 ======== acc: 94.86334297228579\n",
            "epochs: 74 ======== acc: 94.96386840646515\n",
            "epochs: 75 ======== acc: 95.06267335049237\n",
            "epochs: 76 ======== acc: 95.15976836816907\n",
            "epochs: 77 ======== acc: 95.25516439615225\n",
            "epochs: 78 ======== acc: 95.34887277187818\n",
            "epochs: 79 ======== acc: 95.44090525771917\n",
            "epochs: 80 ======== acc: 95.53127406157594\n",
            "epochs: 81 ======== acc: 95.61999185405229\n",
            "epochs: 82 ======== acc: 95.70707178231909\n",
            "epochs: 83 ======== acc: 95.79252748074794\n",
            "epochs: 84 ======== acc: 95.87637307837889\n",
            "epochs: 85 ======== acc: 95.95862320328051\n",
            "epochs: 86 ======== acc: 96.03929298386058\n",
            "epochs: 87 ======== acc: 96.1183980471932\n",
            "epochs: 88 ======== acc: 96.19595451443801\n",
            "epochs: 89 ======== acc: 96.27197899344154\n",
            "epochs: 90 ======== acc: 96.34648856862638\n",
            "epochs: 91 ======== acc: 96.41950078829072\n",
            "epochs: 92 ======== acc: 96.49103364945698\n",
            "epochs: 93 ======== acc: 96.56110558042502\n",
            "epochs: 94 ======== acc: 96.62973542119948\n",
            "epochs: 95 ======== acc: 96.69694240197416\n",
            "epochs: 96 ======== acc: 96.76274611986709\n",
            "epochs: 97 ======== acc: 96.82716651410855\n",
            "epochs: 98 ======== acc: 96.89022383988991\n",
            "epochs: 99 ======== acc: 96.95193864108505\n",
            "epochs: 100 ======== acc: 97.01233172205669\n"
          ]
        }
      ]
    },
    {
      "cell_type": "code",
      "source": [
        "# accuracy\n",
        "plt.plot(acc)\n",
        "plt.ylabel('Accuracy')\n",
        "plt.xlabel(\"Epochs:\")\n",
        "plt.show()\n",
        "\n",
        "# Loss\n",
        "plt.plot(losss)\n",
        "plt.ylabel('Loss')\n",
        "plt.xlabel(\"Epochs:\")\n",
        "plt.show()"
      ],
      "metadata": {
        "colab": {
          "base_uri": "https://localhost:8080/",
          "height": 881
        },
        "id": "t-ubLW3n2CoR",
        "outputId": "7502fb87-f0de-45e2-849c-ec36899c0252"
      },
      "execution_count": 13,
      "outputs": [
        {
          "output_type": "display_data",
          "data": {
            "text/plain": [
              "<Figure size 640x480 with 1 Axes>"
            ],
            "image/png": "[encoded data removed]"
          },
          "metadata": {}
        },
        {
          "output_type": "display_data",
          "data": {
            "text/plain": [
              "<Figure size 640x480 with 1 Axes>"
            ],
            "image/png": "[encoded data removed]"
          },
          "metadata": {}
        }
      ]
    },
    {
      "cell_type": "code",
      "source": [
        "d =[0, 1, 1, 1, 1, 0,\n",
        "0, 1, 0, 1, 0, 0,\n",
        "0, 1, 0, 1, 0, 0,\n",
        "0, 1, 0, 1, 0, 0,\n",
        "0, 1, 1, 1, 1, 0]\n",
        "d = np.array(d)\n",
        "d"
      ],
      "metadata": {
        "colab": {
          "base_uri": "https://localhost:8080/"
        },
        "id": "F6V_xpdf49Tf",
        "outputId": "3d359385-3ba1-479a-fae1-139a3b01eb03"
      },
      "execution_count": 15,
      "outputs": [
        {
          "output_type": "execute_result",
          "data": {
            "text/plain": [
              "array([0, 1, 1, 1, 1, 0, 0, 1, 0, 1, 0, 0, 0, 1, 0, 1, 0, 0, 0, 1, 0, 1,\n",
              "       0, 0, 0, 1, 1, 1, 1, 0])"
            ]
          },
          "metadata": {},
          "execution_count": 15
        }
      ]
    },
    {
      "cell_type": "code",
      "source": [
        "predict(x[1], w1, w2)"
      ],
      "metadata": {
        "colab": {
          "base_uri": "https://localhost:8080/",
          "height": 448
        },
        "id": "ENboEywZ2LWn",
        "outputId": "7518c3be-092d-4fc8-cda5-11dd71b32d37"
      },
      "execution_count": 16,
      "outputs": [
        {
          "output_type": "stream",
          "name": "stdout",
          "text": [
            "Image is of letter B.\n"
          ]
        },
        {
          "output_type": "display_data",
          "data": {
            "text/plain": [
              "<Figure size 640x480 with 1 Axes>"
            ],
            "image/png": "[encoded data removed]"
          },
          "metadata": {}
        }
      ]
    }
  ]
}