{
  "nbformat": 4,
  "nbformat_minor": 0,
  "metadata": {
    "colab": {
      "provenance": []
    },
    "kernelspec": {
      "name": "python3",
      "display_name": "Python 3"
    },
    "language_info": {
      "name": "python"
    }
  },
  "cells": [
    {
      "cell_type": "code",
      "source": [
        "import numpy as np"
      ],
      "metadata": {
        "id": "JZeR9pKP9heh"
      },
      "execution_count": 475,
      "outputs": []
    },
    {
      "cell_type": "code",
      "source": [
        "def initialize_parameters(input_size, hidden_size, output_size):\n",
        "    W1 = np.random.randn(hidden_size, input_size) * 0.01\n",
        "    b1 = np.zeros((hidden_size, 1))\n",
        "    W2 = np.random.randn(output_size, hidden_size) * 0.01\n",
        "    b2 = np.zeros((output_size, 1))\n",
        "    return {'W1': W1, 'b1': b1, 'W2': W2, 'b2': b2}"
      ],
      "metadata": {
        "id": "CcVHyg9E9hg5"
      },
      "execution_count": 476,
      "outputs": []
    },
    {
      "cell_type": "code",
      "source": [
        "def sigmoid(z):\n",
        "    return 1 / (1 + np.exp(-z))\n",
        "\n",
        "def sigmoid_derivative(z):\n",
        "    return sigmoid(z) * (1 - sigmoid(z))"
      ],
      "metadata": {
        "id": "GQyhpnlV9l17"
      },
      "execution_count": 477,
      "outputs": []
    },
    {
      "cell_type": "code",
      "source": [
        "def forward_propagation(X, parameters):\n",
        "    W1, b1, W2, b2 = parameters['W1'], parameters['b1'], parameters['W2'], parameters['b2']\n",
        "\n",
        "    Z1 = np.dot(W1, X) + b1\n",
        "    A1 = sigmoid(Z1)\n",
        "    Z2 = np.dot(W2, A1) + b2\n",
        "    A2 = sigmoid(Z2)\n",
        "\n",
        "    intermediate_value = {'Z1': Z1, 'A1': A1, 'Z2': Z2, 'A2': A2}\n",
        "    return A2, intermediate_value"
      ],
      "metadata": {
        "id": "_74OoEI89hjB"
      },
      "execution_count": 478,
      "outputs": []
    },
    {
      "cell_type": "code",
      "source": [
        "def compute_cost(A2, Y):\n",
        "    m = Y.shape[1]\n",
        "    cost = -np.sum(np.multiply(np.log(A2), Y) + np.multiply(np.log(1 - A2), 1 - Y)) / m\n",
        "    return cost"
      ],
      "metadata": {
        "id": "3NnfMIJF9hlJ"
      },
      "execution_count": 479,
      "outputs": []
    },
    {
      "cell_type": "code",
      "source": [
        "def backward_propagation(X, Y, parameters, intermediate_value):\n",
        "    m = X.shape[1]\n",
        "    W1, W2 = parameters['W1'], parameters['W2']\n",
        "    A1, A2 = intermediate_value['A1'], intermediate_value['A2']\n",
        "\n",
        "    dZ2 = A2 - Y\n",
        "    dW2 = np.dot(dZ2, A1.T) / m\n",
        "    db2 = np.sum(dZ2, axis=1, keepdims=True) / m\n",
        "    dZ1 = np.dot(W2.T, dZ2) * sigmoid_derivative(intermediate_value['Z1'])\n",
        "    dW1 = np.dot(dZ1, X.T) / m\n",
        "    db1 = np.sum(dZ1, axis=1, keepdims=True) / m\n",
        "\n",
        "    grads = {'dW1': dW1, 'db1': db1, 'dW2': dW2, 'db2': db2}\n",
        "    return grads"
      ],
      "metadata": {
        "id": "L4ueMeNm9hnN"
      },
      "execution_count": 480,
      "outputs": []
    },
    {
      "cell_type": "code",
      "source": [
        "def update_parameters(parameters, grads, learning_rate):\n",
        "    parameters['W1'] -= learning_rate * grads['dW1']\n",
        "    parameters['b1'] -= learning_rate * grads['db1']\n",
        "    parameters['W2'] -= learning_rate * grads['dW2']\n",
        "    parameters['b2'] -= learning_rate * grads['db2']\n",
        "    return parameters"
      ],
      "metadata": {
        "id": "hVUEfCqE9hpi"
      },
      "execution_count": 481,
      "outputs": []
    },
    {
      "cell_type": "code",
      "source": [
        "\n",
        "def train_neural_network(X, Y, input_size, hidden_size, output_size, epoch, learning_rate):\n",
        "    parameters = initialize_parameters(input_size, hidden_size, output_size)\n",
        "    for i in range(epoch):\n",
        "        A2, intermediate_value = forward_propagation(X, parameters)\n",
        "        cost = compute_cost(A2, Y)\n",
        "        grads = backward_propagation(X, Y, parameters, intermediate_value)\n",
        "        parameters = update_parameters(parameters, grads, learning_rate)\n",
        "    return parameters"
      ],
      "metadata": {
        "id": "TAuu8FWC9hra"
      },
      "execution_count": 482,
      "outputs": []
    },
    {
      "cell_type": "code",
      "source": [
        "def calculate_accuracy(predictions, Y):\n",
        "    accuracy = np.mean(predictions == Y)\n",
        "    return accuracy * 100"
      ],
      "metadata": {
        "id": "4g8jZQ8e-oG6"
      },
      "execution_count": 483,
      "outputs": []
    },
    {
      "cell_type": "code",
      "source": [
        "# Dataset\n",
        "X = np.array([[0, 0], [0, 1], [1, 0], [1, 1]]).T\n",
        "Y = np.array([[0, 1, 1, 0]])\n",
        "\n",
        "input_size = 2\n",
        "hidden_size = 4\n",
        "output_size = 1\n",
        "\n",
        "# Training the neural network\n",
        "parameters = train_neural_network(X, Y, input_size, hidden_size, output_size, epoch=1500, learning_rate=0.01)"
      ],
      "metadata": {
        "id": "1qFr3T-M9htq"
      },
      "execution_count": 484,
      "outputs": []
    },
    {
      "cell_type": "code",
      "source": [
        "predictions, _ = forward_propagation(X, parameters)\n",
        "predictions = np.round(predictions)\n",
        "print(\"Predictions: \", predictions)\n",
        "accuracy = calculate_accuracy(predictions, Y)\n",
        "print(\"Accuracy: \", accuracy, \"%\")"
      ],
      "metadata": {
        "colab": {
          "base_uri": "https://localhost:8080/"
        },
        "id": "ymO97NVA9hv_",
        "outputId": "0a319e4d-6414-4d55-ac3d-ed7642755dc6"
      },
      "execution_count": 485,
      "outputs": [
        {
          "output_type": "stream",
          "name": "stdout",
          "text": [
            "Predictions:  [[0. 1. 0. 0.]]\n",
            "Accuracy:  75.0 %\n"
          ]
        }
      ]
    }
  ]
}