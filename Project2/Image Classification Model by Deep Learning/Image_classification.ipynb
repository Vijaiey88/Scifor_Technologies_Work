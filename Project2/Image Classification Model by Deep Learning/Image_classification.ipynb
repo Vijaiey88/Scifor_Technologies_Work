{
  "cells": [
    {
      "cell_type": "code",
      "source": [
        "from google.colab import drive\n",
        "drive.mount('/content/drive')"
      ],
      "metadata": {
        "colab": {
          "base_uri": "https://localhost:8080/"
        },
        "id": "0wLgmem8xWPb",
        "outputId": "3a693293-2f7d-451f-e47b-78b88874f678"
      },
      "id": "0wLgmem8xWPb",
      "execution_count": 1,
      "outputs": [
        {
          "output_type": "stream",
          "name": "stdout",
          "text": [
            "Mounted at /content/drive\n"
          ]
        }
      ]
    },
    {
      "cell_type": "code",
      "source": [
        "# import necessary libraries\n",
        "import numpy as np\n",
        "import tensorflow as tf\n",
        "import matplotlib.pyplot as plt\n",
        "from tensorflow.keras.preprocessing.image import ImageDataGenerator\n",
        "from tensorflow.keras.applications import VGG16\n",
        "from tensorflow.keras.models import load_model\n",
        "from tensorflow.keras.preprocessing import image\n",
        "from tensorflow.keras.applications.vgg16 import preprocess_input"
      ],
      "metadata": {
        "id": "phQgJLSfQYyV"
      },
      "id": "phQgJLSfQYyV",
      "execution_count": 2,
      "outputs": []
    },
    {
      "cell_type": "code",
      "source": [
        "# Data directories\n",
        "train_dir = '/content/drive/MyDrive/Dataset/train'\n",
        "test_dir = '/content/drive/MyDrive/Dataset/test'\n",
        "\n",
        "img_height, img_width = 224, 224\n",
        "batch_size = 32"
      ],
      "metadata": {
        "id": "z4udZkJ0Qcvc"
      },
      "id": "z4udZkJ0Qcvc",
      "execution_count": 3,
      "outputs": []
    },
    {
      "cell_type": "code",
      "source": [
        "# Data augmentation for training set\n",
        "train_datagen = ImageDataGenerator(\n",
        "    rescale=1./255,\n",
        "    rotation_range=40,\n",
        "    width_shift_range=0.2,\n",
        "    height_shift_range=0.2,\n",
        "    shear_range=0.2,\n",
        "    zoom_range=0.2,\n",
        "    horizontal_flip=True,\n",
        "    fill_mode='nearest')\n",
        "\n",
        "test_datagen = ImageDataGenerator(rescale=1./255)\n"
      ],
      "metadata": {
        "id": "eM7RCHUIQewE"
      },
      "id": "eM7RCHUIQewE",
      "execution_count": 4,
      "outputs": []
    },
    {
      "cell_type": "code",
      "source": [
        "# Generating batches of training and testing data\n",
        "train_generator = train_datagen.flow_from_directory(\n",
        "    train_dir,\n",
        "    target_size=(img_height, img_width),\n",
        "    batch_size=batch_size,\n",
        "    class_mode='binary')\n",
        "\n",
        "test_generator = test_datagen.flow_from_directory(\n",
        "    test_dir,\n",
        "    target_size=(img_height, img_width),\n",
        "    batch_size=batch_size,\n",
        "    class_mode='binary')\n",
        "\n",
        "# Displaying class indices\n",
        "print('Class indices:', train_generator.class_indices)"
      ],
      "metadata": {
        "colab": {
          "base_uri": "https://localhost:8080/"
        },
        "id": "OY7dyPtyOLxZ",
        "outputId": "34889b79-f3c4-4a98-d916-d9bd85e67fae"
      },
      "id": "OY7dyPtyOLxZ",
      "execution_count": 10,
      "outputs": [
        {
          "output_type": "stream",
          "name": "stdout",
          "text": [
            "Found 3070 images belonging to 2 classes.\n",
            "Found 600 images belonging to 2 classes.\n",
            "Class indices: {'City': 0, 'Nature': 1}\n"
          ]
        }
      ]
    },
    {
      "cell_type": "code",
      "source": [
        "# Using VGG16 convolutional base\n",
        "base_model = VGG16(weights='imagenet', include_top=False, input_shape=(img_height, img_width, 3))\n",
        "\n",
        "for layer in base_model.layers:\n",
        "    layer.trainable = False\n",
        "\n",
        "model = tf.keras.Sequential([\n",
        "    base_model,\n",
        "    tf.keras.layers.GlobalAveragePooling2D(),\n",
        "    tf.keras.layers.Dense(128, activation='relu'),\n",
        "    tf.keras.layers.Dropout(0.5),\n",
        "    tf.keras.layers.Dense(1, activation='sigmoid')\n",
        "])"
      ],
      "metadata": {
        "colab": {
          "base_uri": "https://localhost:8080/"
        },
        "id": "FxClxlxKOU5b",
        "outputId": "b2fa6774-75c0-48cf-d9bd-1f5da4d8cb54"
      },
      "id": "FxClxlxKOU5b",
      "execution_count": 6,
      "outputs": [
        {
          "output_type": "stream",
          "name": "stdout",
          "text": [
            "Downloading data from https://storage.googleapis.com/tensorflow/keras-applications/vgg16/vgg16_weights_tf_dim_ordering_tf_kernels_notop.h5\n",
            "58889256/58889256 [==============================] - 1s 0us/step\n"
          ]
        }
      ]
    },
    {
      "cell_type": "code",
      "source": [
        "# Model compilation\n",
        "model.compile(optimizer='adam',\n",
        "              loss='binary_crossentropy',\n",
        "              metrics=['accuracy'])\n",
        "model.summary()"
      ],
      "metadata": {
        "colab": {
          "base_uri": "https://localhost:8080/"
        },
        "id": "7stJ5XXtQiKa",
        "outputId": "d7c849bd-a123-4e92-976b-07b4e4e2ff47"
      },
      "id": "7stJ5XXtQiKa",
      "execution_count": 7,
      "outputs": [
        {
          "output_type": "stream",
          "name": "stdout",
          "text": [
            "Model: \"sequential\"\n",
            "_________________________________________________________________\n",
            " Layer (type)                Output Shape              Param #   \n",
            "=================================================================\n",
            " vgg16 (Functional)          (None, 7, 7, 512)         14714688  \n",
            "                                                                 \n",
            " global_average_pooling2d (  (None, 512)               0         \n",
            " GlobalAveragePooling2D)                                         \n",
            "                                                                 \n",
            " dense (Dense)               (None, 128)               65664     \n",
            "                                                                 \n",
            " dropout (Dropout)           (None, 128)               0         \n",
            "                                                                 \n",
            " dense_1 (Dense)             (None, 1)                 129       \n",
            "                                                                 \n",
            "=================================================================\n",
            "Total params: 14780481 (56.38 MB)\n",
            "Trainable params: 65793 (257.00 KB)\n",
            "Non-trainable params: 14714688 (56.13 MB)\n",
            "_________________________________________________________________\n"
          ]
        }
      ]
    },
    {
      "cell_type": "code",
      "source": [
        "# Training the model\n",
        "ic_model = model.fit(train_generator,\n",
        "                    epochs=6,\n",
        "                    batch_size=batch_size,\n",
        "                    validation_data=test_generator)\n",
        "\n",
        "# Evaluating the model\n",
        "test_loss, test_acc = model.evaluate(test_generator)\n",
        "print('Test accuracy:', test_acc)"
      ],
      "metadata": {
        "colab": {
          "base_uri": "https://localhost:8080/"
        },
        "id": "RVuaVD47OLzt",
        "outputId": "c31d7dfa-b356-45e4-87b5-e813bece829f"
      },
      "id": "RVuaVD47OLzt",
      "execution_count": 8,
      "outputs": [
        {
          "output_type": "stream",
          "name": "stdout",
          "text": [
            "Epoch 1/6\n",
            "96/96 [==============================] - 617s 6s/step - loss: 0.3313 - accuracy: 0.8704 - val_loss: 0.1387 - val_accuracy: 0.9600\n",
            "Epoch 2/6\n",
            "96/96 [==============================] - 57s 596ms/step - loss: 0.1611 - accuracy: 0.9466 - val_loss: 0.1176 - val_accuracy: 0.9650\n",
            "Epoch 3/6\n",
            "96/96 [==============================] - 57s 589ms/step - loss: 0.1435 - accuracy: 0.9498 - val_loss: 0.1086 - val_accuracy: 0.9650\n",
            "Epoch 4/6\n",
            "96/96 [==============================] - 57s 591ms/step - loss: 0.1254 - accuracy: 0.9570 - val_loss: 0.1035 - val_accuracy: 0.9650\n",
            "Epoch 5/6\n",
            "96/96 [==============================] - 57s 592ms/step - loss: 0.1222 - accuracy: 0.9573 - val_loss: 0.1023 - val_accuracy: 0.9667\n",
            "Epoch 6/6\n",
            "96/96 [==============================] - 56s 588ms/step - loss: 0.1097 - accuracy: 0.9622 - val_loss: 0.0988 - val_accuracy: 0.9683\n",
            "19/19 [==============================] - 3s 131ms/step - loss: 0.0988 - accuracy: 0.9683\n",
            "Test accuracy: 0.9683333039283752\n"
          ]
        }
      ]
    },
    {
      "cell_type": "code",
      "source": [
        "# plotting loss\n",
        "plt.plot(ic_model.history['loss'], label='train loss')\n",
        "plt.plot(ic_model.history['val_loss'], label='val loss')\n",
        "plt.legend()\n",
        "plt.show()\n",
        "plt.savefig('LossVal_loss')\n",
        "\n",
        "# plotting accuracy\n",
        "plt.plot(ic_model.history['accuracy'], label='train acc')\n",
        "plt.plot(ic_model.history['val_accuracy'], label='val acc')\n",
        "plt.legend()\n",
        "plt.show()\n",
        "plt.savefig('AccVal_acc')"
      ],
      "metadata": {
        "colab": {
          "base_uri": "https://localhost:8080/",
          "height": 860
        },
        "id": "Akbj_dBpOL_p",
        "outputId": "9b1e23c1-fd19-4be4-b981-6fa4404e97c6"
      },
      "id": "Akbj_dBpOL_p",
      "execution_count": 9,
      "outputs": [
        {
          "output_type": "display_data",
          "data": {
            "text/plain": [
              "<Figure size 640x480 with 1 Axes>"
            ],
            "image/png": "[encoded data removed]"
          },
          "metadata": {}
        },
        {
          "output_type": "display_data",
          "data": {
            "text/plain": [
              "<Figure size 640x480 with 1 Axes>"
            ],
            "image/png": "[encoded data removed]"
          },
          "metadata": {}
        },
        {
          "output_type": "display_data",
          "data": {
            "text/plain": [
              "<Figure size 640x480 with 0 Axes>"
            ]
          },
          "metadata": {}
        }
      ]
    },
    {
      "cell_type": "code",
      "source": [
        "# save model as a h5 file\n",
        "model.save('image_classification_model.h5')"
      ],
      "metadata": {
        "colab": {
          "base_uri": "https://localhost:8080/"
        },
        "id": "4PLjuEmGRoGQ",
        "outputId": "b70d87ff-45a8-4b96-8703-222f162e3ce5"
      },
      "id": "4PLjuEmGRoGQ",
      "execution_count": 11,
      "outputs": [
        {
          "output_type": "stream",
          "name": "stderr",
          "text": [
            "/usr/local/lib/python3.10/dist-packages/keras/src/engine/training.py:3103: UserWarning: You are saving your model as an HDF5 file via `model.save()`. This file format is considered legacy. We recommend using instead the native Keras format, e.g. `model.save('my_model.keras')`.\n",
            "  saving_api.save_model(\n"
          ]
        }
      ]
    },
    {
      "cell_type": "code",
      "source": [
        "# Loading the model\n",
        "model = load_model('image_classification_model.h5')"
      ],
      "metadata": {
        "id": "jPL12UdVS0Cw"
      },
      "id": "jPL12UdVS0Cw",
      "execution_count": 12,
      "outputs": []
    },
    {
      "cell_type": "code",
      "source": [
        "# Loading and preprocessing the image for prediction\n",
        "img = image.load_img(\"/content/drive/MyDrive/Dataset/city.jpeg\", target_size=(224, 224))\n",
        "x = image.img_to_array(img)\n",
        "x = np.expand_dims(x, axis=0)\n",
        "x = x / 255.0  # Normalize the image\n",
        "x = preprocess_input(x)"
      ],
      "metadata": {
        "id": "V2nUQs1ARxyp"
      },
      "id": "V2nUQs1ARxyp",
      "execution_count": 22,
      "outputs": []
    },
    {
      "cell_type": "code",
      "source": [
        "# Making prediction (Class indices: {'City': 0, 'Nature': 1})\n",
        "prediction = model.predict(x)\n",
        "predicted_class = np.argmax(prediction, axis=1)\n",
        "\n",
        "print(\"Predicted class:\", predicted_class)"
      ],
      "metadata": {
        "colab": {
          "base_uri": "https://localhost:8080/"
        },
        "id": "oY8M5ggpRx06",
        "outputId": "b8fcfa88-a2bb-43b1-8acf-68baca65f9b6"
      },
      "id": "oY8M5ggpRx06",
      "execution_count": 23,
      "outputs": [
        {
          "output_type": "stream",
          "name": "stdout",
          "text": [
            "1/1 [==============================] - 0s 25ms/step\n",
            "Predicted class: [0]\n"
          ]
        }
      ]
    }
  ],
  "metadata": {
    "kernelspec": {
      "display_name": "Python 3",
      "name": "python3"
    },
    "language_info": {
      "codemirror_mode": {
        "name": "ipython",
        "version": 3
      },
      "file_extension": ".py",
      "mimetype": "text/x-python",
      "name": "python",
      "nbconvert_exporter": "python",
      "pygments_lexer": "ipython3",
      "version": "3.10.9"
    },
    "colab": {
      "provenance": [],
      "gpuType": "T4"
    },
    "accelerator": "GPU"
  },
  "nbformat": 4,
  "nbformat_minor": 5
}