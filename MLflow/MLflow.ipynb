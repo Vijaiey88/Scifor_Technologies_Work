{
 "cells": [
  {
   "cell_type": "code",
   "execution_count": 0,
   "metadata": {
    "application/vnd.databricks.v1+cell": {
     "cellMetadata": {
      "byteLimit": 2048000,
      "rowLimit": 10000
     },
     "inputWidgets": {},
     "nuid": "055fefec-be59-40d3-8424-c02acbdb022c",
     "showTitle": false,
     "title": ""
    }
   },
   "outputs": [
    {
     "output_type": "stream",
     "name": "stdout",
     "output_type": "stream",
     "text": [
      "\u001B[43mNote: you may need to restart the kernel using dbutils.library.restartPython() to use updated packages.\u001B[0m\nCollecting mlflow\n  Downloading mlflow-2.11.3-py3-none-any.whl (19.7 MB)\n     ━━━━━━━━━━━━━━━━━━━━━━━━━━━━━━━━━━━━━━━━ 19.7/19.7 MB 26.2 MB/s eta 0:00:00\nRequirement already satisfied: matplotlib<4 in /databricks/python3/lib/python3.10/site-packages (from mlflow) (3.5.2)\nCollecting alembic!=1.10.0,<2\n  Downloading alembic-1.13.1-py3-none-any.whl (233 kB)\n     ━━━━━━━━━━━━━━━━━━━━━━━━━━━━━━━━━━━━━━ 233.4/233.4 kB 29.5 MB/s eta 0:00:00\nRequirement already satisfied: click<9,>=7.0 in /databricks/python3/lib/python3.10/site-packages (from mlflow) (8.0.4)\nCollecting Flask<4\n  Downloading flask-3.0.2-py3-none-any.whl (101 kB)\n     ━━━━━━━━━━━━━━━━━━━━━━━━━━━━━━━━━━━━━━ 101.3/101.3 kB 14.4 MB/s eta 0:00:00\nCollecting graphene<4\n  Downloading graphene-3.3-py2.py3-none-any.whl (128 kB)\n     ━━━━━━━━━━━━━━━━━━━━━━━━━━━━━━━━━━━━━━ 128.2/128.2 kB 19.3 MB/s eta 0:00:00\nRequirement already satisfied: entrypoints<1 in /databricks/python3/lib/python3.10/site-packages (from mlflow) (0.4)\nCollecting querystring-parser<2\n  Downloading querystring_parser-1.2.4-py2.py3-none-any.whl (7.9 kB)\nRequirement already satisfied: packaging<24 in /databricks/python3/lib/python3.10/site-packages (from mlflow) (21.3)\nRequirement already satisfied: requests<3,>=2.17.3 in /databricks/python3/lib/python3.10/site-packages (from mlflow) (2.28.1)\nCollecting gitpython<4,>=3.1.9\n  Downloading GitPython-3.1.43-py3-none-any.whl (207 kB)\n     ━━━━━━━━━━━━━━━━━━━━━━━━━━━━━━━━━━━━━━ 207.3/207.3 kB 27.4 MB/s eta 0:00:00\nRequirement already satisfied: numpy<2 in /databricks/python3/lib/python3.10/site-packages (from mlflow) (1.21.5)\nCollecting docker<8,>=4.0.0\n  Downloading docker-7.0.0-py3-none-any.whl (147 kB)\n     ━━━━━━━━━━━━━━━━━━━━━━━━━━━━━━━━━━━━━━ 147.6/147.6 kB 21.3 MB/s eta 0:00:00\nCollecting markdown<4,>=3.3\n  Downloading Markdown-3.6-py3-none-any.whl (105 kB)\n     ━━━━━━━━━━━━━━━━━━━━━━━━━━━━━━━━━━━━━━ 105.4/105.4 kB 11.0 MB/s eta 0:00:00\nCollecting sqlalchemy<3,>=1.4.0\n  Downloading SQLAlchemy-2.0.29-cp310-cp310-manylinux_2_17_x86_64.manylinux2014_x86_64.whl (3.1 MB)\n     ━━━━━━━━━━━━━━━━━━━━━━━━━━━━━━━━━━━━━━━━ 3.1/3.1 MB 65.5 MB/s eta 0:00:00\nCollecting gunicorn<22\n  Downloading gunicorn-21.2.0-py3-none-any.whl (80 kB)\n     ━━━━━━━━━━━━━━━━━━━━━━━━━━━━━━━━━━━━━━━━ 80.2/80.2 kB 12.9 MB/s eta 0:00:00\nRequirement already satisfied: protobuf<5,>=3.12.0 in /databricks/python3/lib/python3.10/site-packages (from mlflow) (3.19.4)\nRequirement already satisfied: scipy<2 in /databricks/python3/lib/python3.10/site-packages (from mlflow) (1.9.1)\nCollecting pyyaml<7,>=5.1\n  Downloading PyYAML-6.0.1-cp310-cp310-manylinux_2_17_x86_64.manylinux2014_x86_64.whl (705 kB)\n     ━━━━━━━━━━━━━━━━━━━━━━━━━━━━━━━━━━━━━━ 705.5/705.5 kB 26.6 MB/s eta 0:00:00\nCollecting sqlparse<1,>=0.4.0\n  Downloading sqlparse-0.4.4-py3-none-any.whl (41 kB)\n     ━━━━━━━━━━━━━━━━━━━━━━━━━━━━━━━━━━━━━━━━ 41.2/41.2 kB 5.6 MB/s eta 0:00:00\nRequirement already satisfied: pyarrow<16,>=4.0.0 in /databricks/python3/lib/python3.10/site-packages (from mlflow) (8.0.0)\nRequirement already satisfied: Jinja2<4,>=2.11 in /databricks/python3/lib/python3.10/site-packages (from mlflow) (2.11.3)\nRequirement already satisfied: pandas<3 in /databricks/python3/lib/python3.10/site-packages (from mlflow) (1.4.4)\nRequirement already satisfied: importlib-metadata!=4.7.0,<8,>=3.7.0 in /usr/lib/python3/dist-packages (from mlflow) (4.6.4)\nCollecting cloudpickle<4\n  Downloading cloudpickle-3.0.0-py3-none-any.whl (20 kB)\nRequirement already satisfied: scikit-learn<2 in /databricks/python3/lib/python3.10/site-packages (from mlflow) (1.1.1)\nRequirement already satisfied: pytz<2025 in /databricks/python3/lib/python3.10/site-packages (from mlflow) (2022.1)\nRequirement already satisfied: typing-extensions>=4 in /databricks/python3/lib/python3.10/site-packages (from alembic!=1.10.0,<2->mlflow) (4.3.0)\nCollecting Mako\n  Downloading Mako-1.3.2-py3-none-any.whl (78 kB)\n     ━━━━━━━━━━━━━━━━━━━━━━━━━━━━━━━━━━━━━━━━ 78.7/78.7 kB 13.8 MB/s eta 0:00:00\nRequirement already satisfied: urllib3>=1.26.0 in /databricks/python3/lib/python3.10/site-packages (from docker<8,>=4.0.0->mlflow) (1.26.11)\nCollecting blinker>=1.6.2\n  Downloading blinker-1.7.0-py3-none-any.whl (13 kB)\nCollecting Werkzeug>=3.0.0\n  Downloading werkzeug-3.0.2-py3-none-any.whl (226 kB)\n     ━━━━━━━━━━━━━━━━━━━━━━━━━━━━━━━━━━━━━━ 226.8/226.8 kB 23.3 MB/s eta 0:00:00\nCollecting Jinja2<4,>=2.11\n  Downloading Jinja2-3.1.3-py3-none-any.whl (133 kB)\n     ━━━━━━━━━━━━━━━━━━━━━━━━━━━━━━━━━━━━━━ 133.2/133.2 kB 20.8 MB/s eta 0:00:00\nCollecting itsdangerous>=2.1.2\n  Downloading itsdangerous-2.1.2-py3-none-any.whl (15 kB)\nCollecting click<9,>=7.0\n  Downloading click-8.1.7-py3-none-any.whl (97 kB)\n     ━━━━━━━━━━━━━━━━━━━━━━━━━━━━━━━━━━━━━━━━ 97.9/97.9 kB 13.2 MB/s eta 0:00:00\nCollecting gitdb<5,>=4.0.1\n  Downloading gitdb-4.0.11-py3-none-any.whl (62 kB)\n     ━━━━━━━━━━━━━━━━━━━━━━━━━━━━━━━━━━━━━━━━ 62.7/62.7 kB 12.2 MB/s eta 0:00:00\nCollecting graphql-relay<3.3,>=3.1\n  Downloading graphql_relay-3.2.0-py3-none-any.whl (16 kB)\nCollecting graphql-core<3.3,>=3.1\n  Downloading graphql_core-3.2.3-py3-none-any.whl (202 kB)\n     ━━━━━━━━━━━━━━━━━━━━━━━━━━━━━━━━━━━━━━ 202.9/202.9 kB 29.5 MB/s eta 0:00:00\nCollecting aniso8601<10,>=8\n  Downloading aniso8601-9.0.1-py2.py3-none-any.whl (52 kB)\n     ━━━━━━━━━━━━━━━━━━━━━━━━━━━━━━━━━━━━━━━━ 52.8/52.8 kB 8.7 MB/s eta 0:00:00\nRequirement already satisfied: MarkupSafe>=2.0 in /databricks/python3/lib/python3.10/site-packages (from Jinja2<4,>=2.11->mlflow) (2.0.1)\nRequirement already satisfied: kiwisolver>=1.0.1 in /databricks/python3/lib/python3.10/site-packages (from matplotlib<4->mlflow) (1.4.2)\nRequirement already satisfied: pillow>=6.2.0 in /databricks/python3/lib/python3.10/site-packages (from matplotlib<4->mlflow) (9.2.0)\nRequirement already satisfied: cycler>=0.10 in /databricks/python3/lib/python3.10/site-packages (from matplotlib<4->mlflow) (0.11.0)\nRequirement already satisfied: python-dateutil>=2.7 in /databricks/python3/lib/python3.10/site-packages (from matplotlib<4->mlflow) (2.8.2)\nRequirement already satisfied: pyparsing>=2.2.1 in /databricks/python3/lib/python3.10/site-packages (from matplotlib<4->mlflow) (3.0.9)\nRequirement already satisfied: fonttools>=4.22.0 in /databricks/python3/lib/python3.10/site-packages (from matplotlib<4->mlflow) (4.25.0)\nRequirement already satisfied: six in /usr/lib/python3/dist-packages (from querystring-parser<2->mlflow) (1.16.0)\nRequirement already satisfied: certifi>=2017.4.17 in /databricks/python3/lib/python3.10/site-packages (from requests<3,>=2.17.3->mlflow) (2022.9.14)\nRequirement already satisfied: idna<4,>=2.5 in /databricks/python3/lib/python3.10/site-packages (from requests<3,>=2.17.3->mlflow) (3.3)\nRequirement already satisfied: charset-normalizer<3,>=2 in /databricks/python3/lib/python3.10/site-packages (from requests<3,>=2.17.3->mlflow) (2.0.4)\nRequirement already satisfied: joblib>=1.0.0 in /databricks/python3/lib/python3.10/site-packages (from scikit-learn<2->mlflow) (1.2.0)\nRequirement already satisfied: threadpoolctl>=2.0.0 in /databricks/python3/lib/python3.10/site-packages (from scikit-learn<2->mlflow) (2.2.0)\nCollecting typing-extensions>=4\n  Downloading typing_extensions-4.10.0-py3-none-any.whl (33 kB)\nCollecting greenlet!=0.4.17\n  Downloading greenlet-3.0.3-cp310-cp310-manylinux_2_24_x86_64.manylinux_2_28_x86_64.whl (616 kB)\n     ━━━━━━━━━━━━━━━━━━━━━━━━━━━━━━━━━━━━━━ 616.0/616.0 kB 52.4 MB/s eta 0:00:00\nCollecting smmap<6,>=3.0.1\n  Downloading smmap-5.0.1-py3-none-any.whl (24 kB)\nCollecting MarkupSafe>=2.0\n  Downloading MarkupSafe-2.1.5-cp310-cp310-manylinux_2_17_x86_64.manylinux2014_x86_64.whl (25 kB)\nInstalling collected packages: aniso8601, typing-extensions, sqlparse, smmap, querystring-parser, pyyaml, MarkupSafe, markdown, itsdangerous, greenlet, graphql-core, cloudpickle, click, blinker, Werkzeug, sqlalchemy, Mako, Jinja2, gunicorn, graphql-relay, gitdb, docker, graphene, gitpython, Flask, alembic, mlflow\n  Attempting uninstall: typing-extensions\n    Found existing installation: typing_extensions 4.3.0\n    Not uninstalling typing-extensions at /databricks/python3/lib/python3.10/site-packages, outside environment /local_disk0/.ephemeral_nfs/envs/pythonEnv-28b5b6c3-10cc-4bd1-9b9b-1911f276ba75\n    Can't uninstall 'typing_extensions'. No files were found to uninstall.\n  Attempting uninstall: MarkupSafe\n    Found existing installation: MarkupSafe 2.0.1\n    Not uninstalling markupsafe at /databricks/python3/lib/python3.10/site-packages, outside environment /local_disk0/.ephemeral_nfs/envs/pythonEnv-28b5b6c3-10cc-4bd1-9b9b-1911f276ba75\n    Can't uninstall 'MarkupSafe'. No files were found to uninstall.\n  Attempting uninstall: click\n    Found existing installation: click 8.0.4\n    Not uninstalling click at /databricks/python3/lib/python3.10/site-packages, outside environment /local_disk0/.ephemeral_nfs/envs/pythonEnv-28b5b6c3-10cc-4bd1-9b9b-1911f276ba75\n    Can't uninstall 'click'. No files were found to uninstall.\n  Attempting uninstall: blinker\n    Found existing installation: blinker 1.4\n    Not uninstalling blinker at /usr/lib/python3/dist-packages, outside environment /local_disk0/.ephemeral_nfs/envs/pythonEnv-28b5b6c3-10cc-4bd1-9b9b-1911f276ba75\n    Can't uninstall 'blinker'. No files were found to uninstall.\n  Attempting uninstall: Jinja2\n    Found existing installation: Jinja2 2.11.3\n    Not uninstalling jinja2 at /databricks/python3/lib/python3.10/site-packages, outside environment /local_disk0/.ephemeral_nfs/envs/pythonEnv-28b5b6c3-10cc-4bd1-9b9b-1911f276ba75\n    Can't uninstall 'Jinja2'. No files were found to uninstall.\nSuccessfully installed Flask-3.0.2 Jinja2-3.1.3 Mako-1.3.2 MarkupSafe-2.1.5 Werkzeug-3.0.2 alembic-1.13.1 aniso8601-9.0.1 blinker-1.7.0 click-8.1.7 cloudpickle-3.0.0 docker-7.0.0 gitdb-4.0.11 gitpython-3.1.43 graphene-3.3 graphql-core-3.2.3 graphql-relay-3.2.0 greenlet-3.0.3 gunicorn-21.2.0 itsdangerous-2.1.2 markdown-3.6 mlflow-2.11.3 pyyaml-6.0.1 querystring-parser-1.2.4 smmap-5.0.1 sqlalchemy-2.0.29 sqlparse-0.4.4 typing-extensions-4.10.0\n\u001B[43mNote: you may need to restart the kernel using dbutils.library.restartPython() to use updated packages.\u001B[0m\n"
     ]
    }
   ],
   "source": [
    "%pip install mlflow"
   ]
  },
  {
   "cell_type": "code",
   "execution_count": 0,
   "metadata": {
    "application/vnd.databricks.v1+cell": {
     "cellMetadata": {
      "byteLimit": 2048000,
      "rowLimit": 10000
     },
     "inputWidgets": {},
     "nuid": "707c10b6-4e22-430d-8f86-a5eaf1c7771a",
     "showTitle": false,
     "title": ""
    }
   },
   "outputs": [],
   "source": [
    "dbutils.library.restartPython()"
   ]
  },
  {
   "cell_type": "code",
   "execution_count": 0,
   "metadata": {
    "application/vnd.databricks.v1+cell": {
     "cellMetadata": {
      "byteLimit": 2048000,
      "rowLimit": 10000
     },
     "inputWidgets": {},
     "nuid": "ee933b1a-f463-42b4-bf4c-38cddd961e51",
     "showTitle": false,
     "title": ""
    }
   },
   "outputs": [],
   "source": [
    "import mlflow\n",
    "import mlflow.sklearn \n",
    "import pandas as pd \n",
    "import matplotlib.pyplot as plt \n",
    "from numpy import savetxt \n",
    "from sklearn.model_selection import train_test_split, GridSearchCV\n",
    "from sklearn import datasets\n",
    "from sklearn.tree import DecisionTreeRegressor\n",
    "from sklearn.metrics import mean_squared_error"
   ]
  },
  {
   "cell_type": "code",
   "execution_count": 0,
   "metadata": {
    "application/vnd.databricks.v1+cell": {
     "cellMetadata": {
      "byteLimit": 2048000,
      "rowLimit": 10000
     },
     "inputWidgets": {},
     "nuid": "05af675d-7331-4d38-bc41-8f23062df116",
     "showTitle": false,
     "title": ""
    }
   },
   "outputs": [
    {
     "output_type": "stream",
     "name": "stdout",
     "output_type": "stream",
     "text": [
      "Package                  Version\n------------------------ -------------\nalembic                  1.13.1\naniso8601                9.0.1\nappdirs                  1.4.4\nargon2-cffi              21.3.0\nargon2-cffi-bindings     21.2.0\nasttokens                2.2.1\nattrs                    21.4.0\nbackcall                 0.2.0\nbeautifulsoup4           4.11.1\nblack                    22.6.0\nbleach                   4.1.0\nblinker                  1.7.0\nboto3                    1.24.28\nbotocore                 1.27.28\ncertifi                  2022.9.14\ncffi                     1.15.1\nchardet                  4.0.0\ncharset-normalizer       2.0.4\nclick                    8.1.7\ncloudpickle              3.0.0\ncryptography             37.0.1\ncycler                   0.11.0\nCython                   0.29.32\ndatabricks-sdk           0.1.6\ndbus-python              1.2.18\ndebugpy                  1.6.0\ndecorator                5.1.1\ndefusedxml               0.7.1\ndistlib                  0.3.7\ndistro                   1.7.0\ndistro-info              1.1+ubuntu0.2\ndocker                   7.0.0\ndocstring-to-markdown    0.12\nentrypoints              0.4\nexecuting                1.2.0\nfacets-overview          1.0.3\nfastjsonschema           2.18.0\nfilelock                 3.12.2\nFlask                    3.0.2\nfonttools                4.25.0\ngitdb                    4.0.11\nGitPython                3.1.43\ngoogleapis-common-protos 1.56.4\ngraphene                 3.3\ngraphql-core             3.2.3\ngraphql-relay            3.2.0\ngreenlet                 3.0.3\ngrpcio                   1.48.1\ngrpcio-status            1.48.1\ngunicorn                 21.2.0\nhttplib2                 0.20.2\nidna                     3.3\nimportlib-metadata       4.6.4\nipykernel                6.17.1\nipython                  8.10.0\nipython-genutils         0.2.0\nipywidgets               7.7.2\nitsdangerous             2.1.2\njedi                     0.18.1\njeepney                  0.7.1\nJinja2                   3.1.3\njmespath                 0.10.0\njoblib                   1.2.0\njsonschema               4.16.0\njupyter-client           7.3.4\njupyter_core             4.11.2\njupyterlab-pygments      0.1.2\njupyterlab-widgets       1.0.0\nkeyring                  23.5.0\nkiwisolver               1.4.2\nlaunchpadlib             1.10.16\nlazr.restfulclient       0.14.4\nlazr.uri                 1.0.6\nMako                     1.3.2\nMarkdown                 3.6\nMarkupSafe               2.1.5\nmatplotlib               3.5.2\nmatplotlib-inline        0.1.6\nmccabe                   0.7.0\nmistune                  0.8.4\nmlflow                   2.11.3\nmore-itertools           8.10.0\nmypy-extensions          0.4.3\nnbclient                 0.5.13\nnbconvert                6.4.4\nnbformat                 5.5.0\nnest-asyncio             1.5.5\nnodeenv                  1.8.0\nnotebook                 6.4.12\nnumpy                    1.21.5\noauthlib                 3.2.0\npackaging                21.3\npandas                   1.4.4\npandocfilters            1.5.0\nparso                    0.8.3\npathspec                 0.9.0\npatsy                    0.5.2\npexpect                  4.8.0\npickleshare              0.7.5\nPillow                   9.2.0\npip                      22.2.2\nplatformdirs             2.5.2\nplotly                   5.9.0\npluggy                   1.0.0\nprometheus-client        0.14.1\nprompt-toolkit           3.0.36\nprotobuf                 3.19.4\npsutil                   5.9.0\npsycopg2                 2.9.3\nptyprocess               0.7.0\npure-eval                0.2.2\npyarrow                  8.0.0\npyarrow-hotfix           0.5\npycparser                2.21\npydantic                 1.10.6\npyflakes                 3.0.1\nPygments                 2.11.2\nPyGObject                3.42.1\nPyJWT                    2.3.0\npyodbc                   4.0.32\npyparsing                3.0.9\npyright                  1.1.294\npyrsistent               0.18.0\npython-apt               2.4.0+ubuntu3\npython-dateutil          2.8.2\npython-lsp-jsonrpc       1.0.0\npython-lsp-server        1.7.1\npytoolconfig             1.2.2\npytz                     2022.1\nPyYAML                   6.0.1\npyzmq                    23.2.0\nquerystring-parser       1.2.4\nrequests                 2.28.1\nrope                     1.7.0\ns3transfer               0.6.0\nscikit-learn             1.1.1\nscipy                    1.9.1\nseaborn                  0.11.2\nSecretStorage            3.3.1\nSend2Trash               1.8.0\nsetuptools               63.4.1\nsix                      1.16.0\nsmmap                    5.0.1\nsoupsieve                2.3.1\nSQLAlchemy               2.0.29\nsqlparse                 0.4.4\nssh-import-id            5.11\nstack-data               0.6.2\nstatsmodels              0.13.2\ntenacity                 8.1.0\nterminado                0.13.1\ntestpath                 0.6.0\nthreadpoolctl            2.2.0\ntokenize-rt              4.2.1\ntomli                    2.0.1\ntornado                  6.1\ntraitlets                5.1.1\ntyping_extensions        4.10.0\nujson                    5.4.0\nunattended-upgrades      0.1\nurllib3                  1.26.11\nvirtualenv               20.16.3\nwadllib                  1.3.6\nwcwidth                  0.2.5\nwebencodings             0.5.1\nWerkzeug                 3.0.2\nwhatthepatch             1.0.2\nwheel                    0.37.1\nwidgetsnbextension       3.6.1\nyapf                     0.31.0\nzipp                     1.0.0\n"
     ]
    }
   ],
   "source": [
    "%pip list"
   ]
  },
  {
   "cell_type": "code",
   "execution_count": 0,
   "metadata": {
    "application/vnd.databricks.v1+cell": {
     "cellMetadata": {
      "byteLimit": 2048000,
      "rowLimit": 10000
     },
     "inputWidgets": {},
     "nuid": "173521fd-54ca-4265-8d51-2d848bb05df8",
     "showTitle": false,
     "title": ""
    }
   },
   "outputs": [],
   "source": [
    "df = datasets.fetch_california_housing()"
   ]
  },
  {
   "cell_type": "code",
   "execution_count": 0,
   "metadata": {
    "application/vnd.databricks.v1+cell": {
     "cellMetadata": {
      "byteLimit": 2048000,
      "rowLimit": 10000
     },
     "inputWidgets": {},
     "nuid": "64bfdd6f-3e0f-4156-912a-7d9f4d62fb73",
     "showTitle": false,
     "title": ""
    }
   },
   "outputs": [],
   "source": [
    "X = df.data\n",
    "y = df.target"
   ]
  },
  {
   "cell_type": "code",
   "execution_count": 0,
   "metadata": {
    "application/vnd.databricks.v1+cell": {
     "cellMetadata": {
      "byteLimit": 2048000,
      "rowLimit": 10000
     },
     "inputWidgets": {},
     "nuid": "d9ca8b08-129f-4f51-a168-b696f94598c1",
     "showTitle": false,
     "title": ""
    }
   },
   "outputs": [],
   "source": [
    "X_train, X_test, y_train, y_test = train_test_split(X, y, test_size=0.2, random_state=42)"
   ]
  },
  {
   "cell_type": "code",
   "execution_count": 0,
   "metadata": {
    "application/vnd.databricks.v1+cell": {
     "cellMetadata": {
      "byteLimit": 2048000,
      "rowLimit": 10000
     },
     "inputWidgets": {},
     "nuid": "b4f744e3-3dae-4c27-a728-89d54df1f76e",
     "showTitle": false,
     "title": ""
    }
   },
   "outputs": [
    {
     "output_type": "stream",
     "name": "stdout",
     "output_type": "stream",
     "text": [
      "[[   8.3252       41.            6.98412698 ...    2.55555556\n    37.88       -122.23      ]\n [   8.3014       21.            6.23813708 ...    2.10984183\n    37.86       -122.22      ]\n [   7.2574       52.            8.28813559 ...    2.80225989\n    37.85       -122.24      ]\n ...\n [   1.7          17.            5.20554273 ...    2.3256351\n    39.43       -121.22      ]\n [   1.8672       18.            5.32951289 ...    2.12320917\n    39.43       -121.32      ]\n [   2.3886       16.            5.25471698 ...    2.61698113\n    39.37       -121.24      ]]\n(20640, 8)\n[4.526 3.585 3.521 ... 0.923 0.847 0.894]\n(20640,)\n"
     ]
    }
   ],
   "source": [
    "print(X)\n",
    "print(X.shape)\n",
    "print(y)\n",
    "print(y.shape)"
   ]
  },
  {
   "cell_type": "code",
   "execution_count": 0,
   "metadata": {
    "application/vnd.databricks.v1+cell": {
     "cellMetadata": {
      "byteLimit": 2048000,
      "rowLimit": 10000
     },
     "inputWidgets": {},
     "nuid": "e53a3ce5-ce49-460b-a2ec-3b77f115559c",
     "showTitle": false,
     "title": ""
    }
   },
   "outputs": [],
   "source": [
    "mlflow.sklearn.autolog()   ## to enable logging"
   ]
  },
  {
   "cell_type": "code",
   "execution_count": 0,
   "metadata": {
    "application/vnd.databricks.v1+cell": {
     "cellMetadata": {
      "byteLimit": 2048000,
      "rowLimit": 10000
     },
     "inputWidgets": {},
     "nuid": "819c46d4-1a9e-44ce-a166-eb1602c767f1",
     "showTitle": false,
     "title": ""
    }
   },
   "outputs": [],
   "source": [
    "with mlflow.start_run(nested=True):\n",
    "    dt = DecisionTreeRegressor()\n",
    "    params = {'criterion': ['squared_error', 'absolute_error'],\n",
    "                'splitter': ['best', 'random'],\n",
    "                'max_features': ['sqrt', None],\n",
    "                'max_leaf_nodes': [10, None]\n",
    "                }\n",
    "    dtr_grid_search = GridSearchCV(dt, param_grid=params, scoring='neg_mean_squared_error', cv=3, verbose=3, n_jobs=-1)"
   ]
  },
  {
   "cell_type": "code",
   "execution_count": 0,
   "metadata": {
    "application/vnd.databricks.v1+cell": {
     "cellMetadata": {
      "byteLimit": 2048000,
      "rowLimit": 10000
     },
     "inputWidgets": {},
     "nuid": "21ba2a11-99be-4bda-9faa-f697c0e889fb",
     "showTitle": false,
     "title": ""
    }
   },
   "outputs": [
    {
     "output_type": "stream",
     "name": "stderr",
     "output_type": "stream",
     "text": [
      "2024/04/03 10:41:55 INFO mlflow.utils.autologging_utils: Created MLflow autologging run with ID '9ac02215bd4142768bfe5daca9ff2a3d', which will track hyperparameters, performance metrics, model artifacts, and lineage information for the current sklearn workflow\n"
     ]
    },
    {
     "output_type": "stream",
     "name": "stdout",
     "output_type": "stream",
     "text": [
      "Fitting 3 folds for each of 16 candidates, totalling 48 fits\n"
     ]
    },
    {
     "output_type": "stream",
     "name": "stderr",
     "output_type": "stream",
     "text": [
      "2024/04/03 10:43:08 WARNING mlflow.utils.autologging_utils: MLflow autologging encountered a warning: \"/databricks/python/lib/python3.10/site-packages/_distutils_hack/__init__.py:33: UserWarning: Setuptools is replacing distutils.\"\n2024/04/03 10:43:13 INFO mlflow.sklearn.utils: Logging the 5 best runs, 11 runs will be omitted.\n"
     ]
    }
   ],
   "source": [
    "\n",
    "# Execute GridSearchCV\n",
    "model = dtr_grid_search.fit(X_train, y_train)\n"
   ]
  },
  {
   "cell_type": "code",
   "execution_count": 0,
   "metadata": {
    "application/vnd.databricks.v1+cell": {
     "cellMetadata": {
      "byteLimit": 2048000,
      "rowLimit": 10000
     },
     "inputWidgets": {},
     "nuid": "65d8e377-3742-4452-b7e0-4433dbd8d37b",
     "showTitle": false,
     "title": ""
    }
   },
   "outputs": [
    {
     "output_type": "stream",
     "name": "stdout",
     "output_type": "stream",
     "text": [
      "Accuracy: 0.5034081778966327\n"
     ]
    }
   ],
   "source": [
    "# Use the loaded model to make predictions on the test data\n",
    "y_pred = model.predict(X_test)\n",
    "# Compare the predicted values with the actual values from the test set\n",
    "accuracy = mean_squared_error(y_test, y_pred)\n",
    "print(\"Accuracy:\", accuracy)"
   ]
  }
 ],
 "metadata": {
  "application/vnd.databricks.v1+notebook": {
   "dashboards": [],
   "language": "python",
   "notebookMetadata": {
    "pythonIndentUnit": 4
   },
   "notebookName": "MLflow",
   "widgets": {}
  }
 },
 "nbformat": 4,
 "nbformat_minor": 0
}
